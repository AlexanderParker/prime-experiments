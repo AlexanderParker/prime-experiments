{
 "cells": [
  {
   "cell_type": "code",
   "execution_count": null,
   "id": "f1b101a1",
   "metadata": {},
   "outputs": [
    {
     "name": "stdout",
     "output_type": "stream",
     "text": [
      "our guess: 215022257 (time: 16.913642 seconds)\n",
      "sympy guess: 215022217 (time: 0.000000 seconds)\n"
     ]
    }
   ],
   "source": [
    "import math\n",
    "import sympy\n",
    "import time\n",
    "\n",
    "# Cache prime blocks\n",
    "prime_blocks_cache = list([2, 3])\n",
    "prime_blocks_roots_cache = list([2, 2])\n",
    "\n",
    "\n",
    "def guess_next_prime(n):\n",
    "    # Return n if it's in the cache, or nearest higher value, otherwise continue:\n",
    "    for p in prime_blocks_cache:\n",
    "        if n < p:\n",
    "            return p\n",
    "\n",
    "    # Populate the prime_blocks_cache until ceil(sqrt(n))\n",
    "    current_prime_guess = prime_blocks_cache[len(prime_blocks_cache) - 1]\n",
    "    max_range = math.ceil(math.sqrt(n))\n",
    "    \n",
    "    while current_prime_guess <= max_range:\n",
    "        blocked_prime_gaps = set()\n",
    "        last_known_prime = prime_blocks_cache[len(prime_blocks_cache) - 1]\n",
    "        # Figure out blocked prime gaps - repeat cycles to find all blocked prime gaps up to max last_known_prime\n",
    "        for prime_block in prime_blocks_cache:\n",
    "            cycle = 0\n",
    "            while last_known_prime >= (blocked_prime_gap := (-current_prime_guess % prime_block) + (prime_block * cycle)):                \n",
    "                blocked_prime_gaps.add(blocked_prime_gap)\n",
    "                cycle += 1\n",
    "        # Find any missing gaps (i.e. what is the next number that isn't blocked)\n",
    "        missing_gap_test = 2\n",
    "        while blocked_prime_gaps.__contains__(missing_gap_test):\n",
    "            missing_gap_test += 2\n",
    "        # Add our prime guess to the list\n",
    "        # if current_prime_guess <= max_range:\n",
    "        current_prime_guess = last_known_prime + missing_gap_test\n",
    "        prime_blocks_cache.append(current_prime_guess)\n",
    "\n",
    "    # Find the next prime after n\n",
    "    blocked_prime_gaps = set()\n",
    "    last_known_prime = prime_blocks_cache[len(prime_blocks_cache) - 1]\n",
    "    for prime_block in prime_blocks_cache:\n",
    "        cycle = 0\n",
    "        while math.ceil(n / prime_block) >= (blocked_prime_gap := (-n % prime_block) + (prime_block * cycle)):                        \n",
    "            blocked_prime_gaps.add(blocked_prime_gap)\n",
    "            cycle += 1\n",
    "        \n",
    "    missing_gap_test = 1 if n % 2 == 0 else 2\n",
    "    while blocked_prime_gaps.__contains__(missing_gap_test):\n",
    "        missing_gap_test += 2\n",
    "    # Return the next prime guess\n",
    "    return n + missing_gap_test\n",
    "\n",
    "\n",
    "test_n = 215022201\n",
    "start = time.time()\n",
    "our_guess = guess_next_prime(test_n)\n",
    "our_time = time.time() - start\n",
    "print(f\"our guess: {our_guess} (time: {our_time:.6f} seconds)\")\n",
    "start = time.time()\n",
    "sympy_guess = sympy.nextprime(test_n)\n",
    "sympy_time = time.time() - start\n",
    "print(f\"sympy guess: {sympy_guess} (time: {sympy_time:.6f} seconds)\")\n"
   ]
  }
 ],
 "metadata": {
  "kernelspec": {
   "display_name": ".venv",
   "language": "python",
   "name": "python3"
  },
  "language_info": {
   "codemirror_mode": {
    "name": "ipython",
    "version": 3
   },
   "file_extension": ".py",
   "mimetype": "text/x-python",
   "name": "python",
   "nbconvert_exporter": "python",
   "pygments_lexer": "ipython3",
   "version": "3.12.10"
  }
 },
 "nbformat": 4,
 "nbformat_minor": 5
}
