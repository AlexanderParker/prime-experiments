{
 "cells": [
  {
   "cell_type": "markdown",
   "metadata": {},
   "source": [
    "# Mersenne Prime Analysis\n",
    "\n",
    "This notebook demonstrates the analysis of Mersenne primes using the restructured project modules."
   ]
  },
  {
   "cell_type": "code",
   "execution_count": null,
   "metadata": {},
   "outputs": [],
   "source": [
    "import sys\n",
    "from pathlib import Path\n",
    "\n",
    "# Add parent directory to path\n",
    "sys.path.insert(0, str(Path.cwd().parent))\n",
    "\n",
    "from src.algorithms import MersennePrime, is_prime\n",
    "from src.utils import estimate_digits, get_first_n_digits, get_last_n_digits"
   ]
  },
  {
   "cell_type": "markdown",
   "metadata": {},
   "source": [
    "## Analyze Small Mersenne Primes"
   ]
  },
  {
   "cell_type": "code",
   "execution_count": null,
   "metadata": {},
   "outputs": [],
   "source": [
    "# Analyze M127 (12th Mersenne prime)\n",
    "mp = MersennePrime(127)\n",
    "print(mp)\n",
    "print(f\"Value: {mp.value}\")\n",
    "print(f\"Number of digits: {mp.digits}\")"
   ]
  },
  {
   "cell_type": "code",
   "execution_count": null,
   "metadata": {},
   "outputs": [],
   "source": [
    "# Analyze M8191 (a larger Mersenne prime)\n",
    "mp_large = MersennePrime(8191)\n",
    "print(mp_large)\n",
    "print(f\"First 100 digits: {mp_large.get_first_n_digits(100)}...\")\n",
    "print(f\"Last 100 digits: ...{mp_large.get_last_n_digits(100)}\")"
   ]
  },
  {
   "cell_type": "markdown",
   "metadata": {},
   "source": [
    "## Calculate Modular Remainders"
   ]
  },
  {
   "cell_type": "code",
   "execution_count": null,
   "metadata": {},
   "outputs": [],
   "source": [
    "# Find modular remainders for small primes\n",
    "mp_small = MersennePrime(31)\n",
    "mods = mp_small.calculate_modular_remainders(100)\n",
    "sorted_mods = sorted(mods)\n",
    "\n",
    "print(f\"Mersenne prime M31: {mp_small.value}\")\n",
    "print(f\"Found {len(mods)} unique even modular remainders\")\n",
    "print(f\"Modular remainders: {sorted_mods[:20]}...\")"
   ]
  },
  {
   "cell_type": "code",
   "execution_count": null,
   "metadata": {},
   "outputs": [],
   "source": [
    "# Find missing even numbers in the sequence\n",
    "missing = mp_small.find_missing_evens(sorted_mods)\n",
    "print(f\"Missing even numbers: {missing[:10]}...\")\n",
    "print(f\"Total missing: {len(missing)}\")"
   ]
  },
  {
   "cell_type": "markdown",
   "metadata": {},
   "source": [
    "## Test for Next Primes"
   ]
  },
  {
   "cell_type": "code",
   "execution_count": null,
   "metadata": {},
   "outputs": [],
   "source": [
    "# Check if any of the missing evens lead to primes\n",
    "mp_test = MersennePrime(7)  # M7 = 127\n",
    "print(f\"Testing primes after M7 = {mp_test.value}\")\n",
    "\n",
    "# Test offsets\n",
    "test_offsets = [2, 4, 6, 8, 10, 12, 14, 16, 18, 20]\n",
    "results = mp_test.check_next_primes(test_offsets)\n",
    "\n",
    "for offset, is_prime_result in results:\n",
    "    status = \"PRIME\" if is_prime_result else \"composite\"\n",
    "    print(f\"M7 + {offset:2} = {mp_test.value + offset:3} is {status}\")"
   ]
  },
  {
   "cell_type": "markdown",
   "metadata": {},
   "source": [
    "## Performance Comparison"
   ]
  },
  {
   "cell_type": "code",
   "execution_count": null,
   "metadata": {},
   "outputs": [],
   "source": [
    "import time\n",
    "from src.algorithms.primality import is_prime_trial_division\n",
    "\n",
    "# Compare primality testing methods\n",
    "test_numbers = [10007, 100003, 1000003]\n",
    "\n",
    "for num in test_numbers:\n",
    "    # Trial division\n",
    "    start = time.time()\n",
    "    result1 = is_prime_trial_division(num)\n",
    "    time1 = time.time() - start\n",
    "    \n",
    "    # GMPY2\n",
    "    start = time.time()\n",
    "    result2 = is_prime(num)\n",
    "    time2 = time.time() - start\n",
    "    \n",
    "    print(f\"Number: {num}\")\n",
    "    print(f\"  Trial division: {result1} ({time1:.6f} seconds)\")\n",
    "    print(f\"  GMPY2:         {result2} ({time2:.6f} seconds)\")\n",
    "    print(f\"  Speedup:       {time1/time2:.2f}x\\n\")"
   ]
  },
  {
   "cell_type": "markdown",
   "metadata": {},
   "source": [
    "## Visualize Prime Gaps"
   ]
  },
  {
   "cell_type": "code",
   "execution_count": null,
   "metadata": {},
   "outputs": [],
   "source": [
    "import matplotlib.pyplot as plt\n",
    "\n",
    "# Calculate gaps for small Mersenne prime\n",
    "mp_viz = MersennePrime(31)\n",
    "mods = sorted(mp_viz.calculate_modular_remainders(500))\n",
    "\n",
    "# Calculate gaps between consecutive mods\n",
    "gaps = [mods[i+1] - mods[i] for i in range(len(mods)-1)]\n",
    "\n",
    "# Plot histogram of gaps\n",
    "plt.figure(figsize=(10, 6))\n",
    "plt.hist(gaps, bins=20, edgecolor='black')\n",
    "plt.xlabel('Gap Size')\n",
    "plt.ylabel('Frequency')\n",
    "plt.title(f'Distribution of Gaps in Modular Remainders for M31')\n",
    "plt.grid(True, alpha=0.3)\n",
    "plt.show()\n",
    "\n",
    "print(f\"Average gap: {sum(gaps)/len(gaps):.2f}\")\n",
    "print(f\"Maximum gap: {max(gaps)}\")\n",
    "print(f\"Minimum gap: {min(gaps)}\")"
   ]
  }
 ],
 "metadata": {
  "kernelspec": {
   "display_name": "Python 3",
   "language": "python",
   "name": "python3"
  },
  "language_info": {
   "codemirror_mode": {
    "name": "ipython",
    "version": 3
   },
   "file_extension": ".py",
   "mimetype": "text/x-python",
   "name": "python",
   "nbconvert_exporter": "python",
   "pygments_lexer": "ipython3",
   "version": "3.9.0"
  }
 },
 "nbformat": 4,
 "nbformat_minor": 4
}