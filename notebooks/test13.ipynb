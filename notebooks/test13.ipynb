{
 "cells": [
  {
   "cell_type": "code",
   "execution_count": 56,
   "id": "1c445dc3",
   "metadata": {},
   "outputs": [
    {
     "name": "stdout",
     "output_type": "stream",
     "text": [
      "7919\n"
     ]
    }
   ],
   "source": [
    "import math\n",
    "\n",
    "known_primes = [2, 3]\n",
    "\n",
    "def get_next_prime_gap():\n",
    "    \"\"\"Returns the next prime gap after the last known prime.\"\"\"\n",
    "    p1 = known_primes[-1]\n",
    "\n",
    "    # Get the square root of p1, rounded up to the next integer\n",
    "    p1_sqrt = math.ceil(math.sqrt(p1))\n",
    "\n",
    "    # Get a set of known primes up to the square root of p1\n",
    "    prime_divisors = [d for d in known_primes if d <= p1_sqrt]\n",
    "\n",
    "    # Calculate moduli of p1 with respect to known primes\n",
    "    blocked_gaps = [(-p1 % p) for p in prime_divisors]\n",
    "\n",
    "    # Early exit - if 2 is not blocked then the next prime is p1 + 2\n",
    "    if 2 not in blocked_gaps:\n",
    "        return 2\n",
    "\n",
    "    # Initialise modular cycle buckets for each prime divisor - initialise with blocked gaps value\n",
    "    gap_buckets = blocked_gaps.copy()\n",
    "\n",
    "    # Check each potential gap > 2 - if a gap is not blocked then return p1 + gap\n",
    "    test_gap = 2  # We already checked gap of 2 above, so the first test gap will be 4\n",
    "\n",
    "    while True:\n",
    "        test_gap_blocked = False\n",
    "        test_gap += 2\n",
    "        if test_gap in gap_buckets:\n",
    "            continue\n",
    "        else:\n",
    "            # Calculate new gaps by cycling the moduli of each prime divisor up to test_gap\n",
    "            prime_divisors_index = 1  # Skip divisor 2 as we are only checking even gaps\n",
    "            while prime_divisors[prime_divisors_index] < test_gap:\n",
    "                while gap_buckets[prime_divisors_index] < test_gap:\n",
    "                    if gap_buckets[prime_divisors_index] % 2 == 0:\n",
    "                        gap_buckets[prime_divisors_index] += prime_divisors[prime_divisors_index] * 2\n",
    "                    else:\n",
    "                        gap_buckets[prime_divisors_index] += prime_divisors[prime_divisors_index]\n",
    "                    if gap_buckets[prime_divisors_index] == test_gap:   \n",
    "                        test_gap_blocked = True\n",
    "                        break\n",
    "                if test_gap_blocked:\n",
    "                    break\n",
    "                prime_divisors_index += 1\n",
    "                if prime_divisors_index >= len(prime_divisors):\n",
    "                    return test_gap\n",
    "        \n",
    "        # found the gap\n",
    "        if not test_gap_blocked:\n",
    "            return test_gap\n",
    "\n",
    "\n",
    "def get_next_prime():\n",
    "    \"\"\"Returns the next prime after the last known prime.\"\"\"    \n",
    "    known_primes.append(known_primes[-1] + get_next_prime_gap())\n",
    "    return known_primes[-1]\n",
    "\n",
    "prime = 1000\n",
    "\n",
    "for i in range(3, prime + 1):\n",
    "    get_next_prime()\n",
    "\n",
    "print (known_primes[-1])"
   ]
  }
 ],
 "metadata": {
  "kernelspec": {
   "display_name": ".venv",
   "language": "python",
   "name": "python3"
  },
  "language_info": {
   "codemirror_mode": {
    "name": "ipython",
    "version": 3
   },
   "file_extension": ".py",
   "mimetype": "text/x-python",
   "name": "python",
   "nbconvert_exporter": "python",
   "pygments_lexer": "ipython3",
   "version": "3.12.10"
  }
 },
 "nbformat": 4,
 "nbformat_minor": 5
}
