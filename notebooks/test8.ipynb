{
 "cells": [
  {
   "cell_type": "code",
   "execution_count": null,
   "id": "2e140a7e",
   "metadata": {},
   "outputs": [
    {
     "ename": "KeyboardInterrupt",
     "evalue": "",
     "output_type": "error",
     "traceback": [
      "\u001b[31m---------------------------------------------------------------------------\u001b[39m",
      "\u001b[31mKeyboardInterrupt\u001b[39m                         Traceback (most recent call last)",
      "\u001b[36mCell\u001b[39m\u001b[36m \u001b[39m\u001b[32mIn[15]\u001b[39m\u001b[32m, line 31\u001b[39m\n\u001b[32m     29\u001b[39m progress_step = max_n // \u001b[32m100\u001b[39m \u001b[38;5;28;01mif\u001b[39;00m max_n >= \u001b[32m100\u001b[39m \u001b[38;5;28;01melse\u001b[39;00m \u001b[32m1\u001b[39m\n\u001b[32m     30\u001b[39m \u001b[38;5;28;01mfor\u001b[39;00m n \u001b[38;5;129;01min\u001b[39;00m \u001b[38;5;28mrange\u001b[39m(\u001b[32m1\u001b[39m, max_n + \u001b[32m1\u001b[39m):\n\u001b[32m---> \u001b[39m\u001b[32m31\u001b[39m     primetest, is_prime, m, upper_bound = \u001b[43mfind_potential_prime\u001b[49m\u001b[43m(\u001b[49m\u001b[43mn\u001b[49m\u001b[43m)\u001b[49m\n\u001b[32m     32\u001b[39m     \u001b[38;5;28;01mif\u001b[39;00m \u001b[38;5;129;01mnot\u001b[39;00m is_prime:\n\u001b[32m     33\u001b[39m         wrong_guesses[n] = {\u001b[33m\"\u001b[39m\u001b[33mn\u001b[39m\u001b[33m\"\u001b[39m: n, \u001b[33m\"\u001b[39m\u001b[33mprimetest\u001b[39m\u001b[33m\"\u001b[39m: primetest, \u001b[33m\"\u001b[39m\u001b[33mis_prime\u001b[39m\u001b[33m\"\u001b[39m: is_prime, \u001b[33m\"\u001b[39m\u001b[33mm\u001b[39m\u001b[33m\"\u001b[39m: m, \u001b[33m\"\u001b[39m\u001b[33mupper_bound\u001b[39m\u001b[33m\"\u001b[39m: upper_bound}\n",
      "\u001b[36mCell\u001b[39m\u001b[36m \u001b[39m\u001b[32mIn[15]\u001b[39m\u001b[32m, line 22\u001b[39m, in \u001b[36mfind_potential_prime\u001b[39m\u001b[34m(n)\u001b[39m\n\u001b[32m     20\u001b[39m         m += \u001b[32m2\u001b[39m\n\u001b[32m     21\u001b[39m     primetest = n + m\n\u001b[32m---> \u001b[39m\u001b[32m22\u001b[39m     is_prime = \u001b[43msympy\u001b[49m\u001b[43m.\u001b[49m\u001b[43misprime\u001b[49m\u001b[43m(\u001b[49m\u001b[43mprimetest\u001b[49m\u001b[43m)\u001b[49m\n\u001b[32m     24\u001b[39m \u001b[38;5;28;01mreturn\u001b[39;00m primetest, is_prime, m, upper_bound\n",
      "\u001b[36mFile \u001b[39m\u001b[32mc:\\dev\\primes\\.venv\\Lib\\site-packages\\sympy\\ntheory\\primetest.py:696\u001b[39m, in \u001b[36misprime\u001b[39m\u001b[34m(n)\u001b[39m\n\u001b[32m    627\u001b[39m \u001b[38;5;28;01mdef\u001b[39;00m\u001b[38;5;250m \u001b[39m\u001b[34misprime\u001b[39m(n):\n\u001b[32m    628\u001b[39m \u001b[38;5;250m    \u001b[39m\u001b[33;03m\"\"\"\u001b[39;00m\n\u001b[32m    629\u001b[39m \u001b[33;03m    Test if n is a prime number (True) or not (False). For n < 2^64 the\u001b[39;00m\n\u001b[32m    630\u001b[39m \u001b[33;03m    answer is definitive; larger n values have a small probability of actually\u001b[39;00m\n\u001b[32m   (...)\u001b[39m\u001b[32m    694\u001b[39m \u001b[33;03m    .. [3] https://en.wikipedia.org/wiki/Baillie-PSW_primality_test\u001b[39;00m\n\u001b[32m    695\u001b[39m \u001b[33;03m    \"\"\"\u001b[39;00m\n\u001b[32m--> \u001b[39m\u001b[32m696\u001b[39m     n = \u001b[43mas_int\u001b[49m\u001b[43m(\u001b[49m\u001b[43mn\u001b[49m\u001b[43m)\u001b[49m\n\u001b[32m    698\u001b[39m     \u001b[38;5;66;03m# Step 1, do quick composite testing via trial division.  The individual\u001b[39;00m\n\u001b[32m    699\u001b[39m     \u001b[38;5;66;03m# modulo tests benchmark faster than one or two primorial igcds for me.\u001b[39;00m\n\u001b[32m    700\u001b[39m     \u001b[38;5;66;03m# The point here is just to speedily handle small numbers and many\u001b[39;00m\n\u001b[32m    701\u001b[39m     \u001b[38;5;66;03m# composites.  Step 2 only requires that n <= 2 get handled here.\u001b[39;00m\n\u001b[32m    702\u001b[39m     \u001b[38;5;28;01mif\u001b[39;00m n \u001b[38;5;129;01min\u001b[39;00m [\u001b[32m2\u001b[39m, \u001b[32m3\u001b[39m, \u001b[32m5\u001b[39m]:\n",
      "\u001b[36mFile \u001b[39m\u001b[32mc:\\dev\\primes\\.venv\\Lib\\site-packages\\sympy\\utilities\\misc.py:554\u001b[39m, in \u001b[36mas_int\u001b[39m\u001b[34m(n, strict)\u001b[39m\n\u001b[32m    552\u001b[39m     \u001b[38;5;28;01mif\u001b[39;00m \u001b[38;5;28misinstance\u001b[39m(n, \u001b[38;5;28mbool\u001b[39m):\n\u001b[32m    553\u001b[39m         \u001b[38;5;28;01mraise\u001b[39;00m \u001b[38;5;167;01mTypeError\u001b[39;00m\n\u001b[32m--> \u001b[39m\u001b[32m554\u001b[39m     \u001b[38;5;28;01mreturn\u001b[39;00m \u001b[43moperator\u001b[49m\u001b[43m.\u001b[49m\u001b[43mindex\u001b[49m\u001b[43m(\u001b[49m\u001b[43mn\u001b[49m\u001b[43m)\u001b[49m\n\u001b[32m    555\u001b[39m \u001b[38;5;28;01mexcept\u001b[39;00m \u001b[38;5;167;01mTypeError\u001b[39;00m:\n\u001b[32m    556\u001b[39m     \u001b[38;5;28;01mraise\u001b[39;00m \u001b[38;5;167;01mValueError\u001b[39;00m(\u001b[33m'\u001b[39m\u001b[38;5;132;01m%s\u001b[39;00m\u001b[33m is not an integer\u001b[39m\u001b[33m'\u001b[39m % (n,))\n",
      "\u001b[31mKeyboardInterrupt\u001b[39m: "
     ]
    }
   ],
   "source": [
    "import math\n",
    "import sympy\n",
    "\n",
    "\n",
    "def find_potential_prime(n):\n",
    "\n",
    "    lower_bound = math.ceil(math.sqrt(n))\n",
    "    upper_bound = math.ceil(n / 2)\n",
    "\n",
    "    numbers = list(range(lower_bound, upper_bound))\n",
    "    remainders_set = set()\n",
    "\n",
    "    for i in numbers:\n",
    "        remainders_set.add(i - (n % i))\n",
    "\n",
    "    m = 1 if n % 2 == 0 else 2\n",
    "    is_prime = False\n",
    "    while not is_prime:\n",
    "        while m in remainders_set:\n",
    "            m += 2\n",
    "        primetest = n + m\n",
    "        is_prime = sympy.isprime(primetest)\n",
    "\n",
    "    return primetest, is_prime, m, upper_bound\n",
    "\n",
    "\n",
    "max_n = 10000  # You can adjust this value as needed\n",
    "wrong_guesses = {}\n",
    "progress_step = max_n // 100 if max_n >= 100 else 1\n",
    "for n in range(1, max_n + 1):\n",
    "    primetest, is_prime, m, upper_bound = find_potential_prime(n)\n",
    "    if not is_prime:\n",
    "        wrong_guesses[n] = {\"n\": n, \"primetest\": primetest, \"is_prime\": is_prime, \"m\": m, \"upper_bound\": upper_bound}\n",
    "    if n % progress_step == 0 or n == max_n:\n",
    "        print(f\"Checked up to n={n} / {max_n}\", end=\"\\r\", flush=True)\n",
    "print()\n",
    "\n",
    "print(f\"Total wrong guesses found: {len(wrong_guesses)}\")\n",
    "\n",
    "print(wrong_guesses.items())\n",
    "\n",
    "print(\"\\nMapping of wrong guesses to correct guesses (first 20):\")\n",
    "for n, value in list(wrong_guesses.items())[:20]:\n",
    "    print(f\"n={n}: wrong_guess={value['primetest']}, wrong_m={value['m']}, wrong_upper_bound={value['upper_bound']}\")\n",
    "\n",
    "# write wrong_guesses to a file\n",
    "with open(\"wrong_guesses.csv\", \"w\") as f:\n",
    "    # write header\n",
    "    f.write(\"n,wrong_guess,wrong_m,wrong_upper_bound\\n\")\n",
    "    for n, value in wrong_guesses.items():\n",
    "        f.write(f\"{n},{value['primetest']},{value['m']},{value['upper_bound']}\\n\")"
   ]
  }
 ],
 "metadata": {
  "kernelspec": {
   "display_name": ".venv",
   "language": "python",
   "name": "python3"
  },
  "language_info": {
   "codemirror_mode": {
    "name": "ipython",
    "version": 3
   },
   "file_extension": ".py",
   "mimetype": "text/x-python",
   "name": "python",
   "nbconvert_exporter": "python",
   "pygments_lexer": "ipython3",
   "version": "3.12.10"
  }
 },
 "nbformat": 4,
 "nbformat_minor": 5
}
