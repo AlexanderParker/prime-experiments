{
 "cells": [
  {
   "cell_type": "code",
   "execution_count": null,
   "id": "2c51fea1",
   "metadata": {},
   "outputs": [
    {
     "name": "stdout",
     "output_type": "stream",
     "text": [
      "331\n"
     ]
    }
   ],
   "source": [
    "import math\n",
    "import sympy\n",
    "\n",
    "# Cache prime blocks\n",
    "prime_blocks_cache = list([2, 3])\n",
    "prime_blocks_roots_cache = list([2, 2])\n",
    "\n",
    "\n",
    "def guess_next_prime(n):\n",
    "    # Return n if it's in the cache, or nearest higher value, otherwise continue:\n",
    "    for p in prime_blocks_cache:\n",
    "        if n < p:\n",
    "            return p\n",
    "\n",
    "    # n is greater than the cached primes, so we start with the last known prime and iterate until we find the first prime greater than n\n",
    "    current_prime_guess = prime_blocks_cache[len(prime_blocks_cache) - 1]\n",
    "\n",
    "    while current_prime_guess <= n:\n",
    "        blocked_prime_gaps = set()\n",
    "        last_known_prime = prime_blocks_cache[len(prime_blocks_cache) - 1]\n",
    "        # Figure out blocked prime gaps - repeat cycles to find all blocked prime gaps up to max last_known_prime\n",
    "        for i in prime_blocks_cache:\n",
    "            cycle = 0\n",
    "            while last_known_prime + 1 >= (-current_prime_guess % i) + (i * cycle):\n",
    "                blocked_prime_gap = (-current_prime_guess % i) + (i * cycle)\n",
    "                if blocked_prime_gap % 2 == 0:\n",
    "                    blocked_prime_gaps.add(blocked_prime_gap)\n",
    "                cycle += 1\n",
    "        # Find any missing gaps (i.e. what is the next number that isn't blocked)\n",
    "        missing_gap_test = 2\n",
    "        while blocked_prime_gaps.__contains__(missing_gap_test):\n",
    "            missing_gap_test += 2\n",
    "        # Add our prime guess to the list\n",
    "        current_prime_guess = last_known_prime + missing_gap_test\n",
    "        prime_blocks_cache.append(current_prime_guess)\n",
    "\n",
    "    # Return our last guess (should be the next prime after n)\n",
    "    return prime_blocks_cache[len(prime_blocks_cache) - 1]\n",
    "\n",
    "\n",
    "print(guess_next_prime(100000))"
   ]
  }
 ],
 "metadata": {
  "kernelspec": {
   "display_name": ".venv",
   "language": "python",
   "name": "python3"
  },
  "language_info": {
   "codemirror_mode": {
    "name": "ipython",
    "version": 3
   },
   "file_extension": ".py",
   "mimetype": "text/x-python",
   "name": "python",
   "nbconvert_exporter": "python",
   "pygments_lexer": "ipython3",
   "version": "3.12.10"
  }
 },
 "nbformat": 4,
 "nbformat_minor": 5
}
