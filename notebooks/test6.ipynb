{
 "cells": [
  {
   "cell_type": "code",
   "execution_count": null,
   "id": "0069d150",
   "metadata": {},
   "outputs": [
    {
     "name": "stderr",
     "output_type": "stream",
     "text": [
      "Traceback (most recent call last):\n",
      "  File \"_pydevd_bundle\\\\pydevd_cython.pyx\", line 1609, in _pydevd_bundle.pydevd_cython.handle_exception\n",
      "  File \"c:\\dev\\primes\\.venv\\Lib\\site-packages\\debugpy\\_vendored\\pydevd\\pydevd.py\", line 2188, in do_wait_suspend\n",
      "    keep_suspended = self._do_wait_suspend(thread, frame, event, arg, trace_suspend_type, from_this_thread, frames_tracker)\n",
      "                     ^^^^^^^^^^^^^^^^^^^^^^^^^^^^^^^^^^^^^^^^^^^^^^^^^^^^^^^^^^^^^^^^^^^^^^^^^^^^^^^^^^^^^^^^^^^^^^^^^^^^^^\n",
      "  File \"c:\\dev\\primes\\.venv\\Lib\\site-packages\\debugpy\\_vendored\\pydevd\\pydevd.py\", line 2257, in _do_wait_suspend\n",
      "    notify_event.wait(wait_timeout)\n",
      "  File \"C:\\Program Files\\WindowsApps\\PythonSoftwareFoundation.Python.3.12_3.12.2800.0_x64__qbz5n2kfra8p0\\Lib\\threading.py\", line 655, in wait\n",
      "    signaled = self._cond.wait(timeout)\n",
      "               ^^^^^^^^^^^^^^^^^^^^^^^^\n",
      "  File \"C:\\Program Files\\WindowsApps\\PythonSoftwareFoundation.Python.3.12_3.12.2800.0_x64__qbz5n2kfra8p0\\Lib\\threading.py\", line 359, in wait\n",
      "    gotit = waiter.acquire(True, timeout)\n",
      "            ^^^^^^^^^^^^^^^^^^^^^^^^^^^^^\n",
      "KeyboardInterrupt\n"
     ]
    },
    {
     "ename": "TypeError",
     "evalue": "'int' object is not callable",
     "output_type": "error",
     "traceback": [
      "\u001b[31m---------------------------------------------------------------------------\u001b[39m",
      "\u001b[31mTypeError\u001b[39m                                 Traceback (most recent call last)",
      "\u001b[36mCell\u001b[39m\u001b[36m \u001b[39m\u001b[32mIn[6]\u001b[39m\u001b[32m, line 44\u001b[39m\n\u001b[32m     42\u001b[39m \u001b[38;5;28mmin\u001b[39m = \u001b[32m1\u001b[39m\n\u001b[32m     43\u001b[39m \u001b[38;5;28mmax\u001b[39m = \u001b[32m10000\u001b[39m\n\u001b[32m---> \u001b[39m\u001b[32m44\u001b[39m \u001b[38;5;28mprint\u001b[39m(\u001b[33m\"\u001b[39m\u001b[33mPrimes from \u001b[39m\u001b[38;5;132;01m{min}\u001b[39;00m\u001b[33m to \u001b[39m\u001b[38;5;132;01m{max}\u001b[39;00m\u001b[33m:\u001b[39m\u001b[33m\"\u001b[39m, \u001b[43msieve_of_eratosthenes\u001b[49m\u001b[43m(\u001b[49m\u001b[38;5;28;43mmin\u001b[39;49m\u001b[43m,\u001b[49m\u001b[43m \u001b[49m\u001b[38;5;28;43mmax\u001b[39;49m\u001b[43m)\u001b[49m)\n",
      "\u001b[36mCell\u001b[39m\u001b[36m \u001b[39m\u001b[32mIn[6]\u001b[39m\u001b[32m, line 32\u001b[39m, in \u001b[36msieve_of_eratosthenes\u001b[39m\u001b[34m(start, end)\u001b[39m\n\u001b[32m     30\u001b[39m \u001b[38;5;66;03m# Collect all prime numbers in the specified range\u001b[39;00m\n\u001b[32m     31\u001b[39m primes = []\n\u001b[32m---> \u001b[39m\u001b[32m32\u001b[39m \u001b[38;5;28;01mfor\u001b[39;00m i \u001b[38;5;129;01min\u001b[39;00m \u001b[38;5;28mrange\u001b[39m(\u001b[38;5;28;43mmax\u001b[39;49m\u001b[43m(\u001b[49m\u001b[32;43m2\u001b[39;49m\u001b[43m,\u001b[49m\u001b[43m \u001b[49m\u001b[43mstart\u001b[49m\u001b[43m)\u001b[49m, end + \u001b[32m1\u001b[39m):\n\u001b[32m     33\u001b[39m     \u001b[38;5;28;01mif\u001b[39;00m is_prime[i]:\n\u001b[32m     34\u001b[39m         primes.append(i)\n",
      "\u001b[31mTypeError\u001b[39m: 'int' object is not callable"
     ]
    }
   ],
   "source": [
    "def sieve_of_eratosthenes(start, end):\n",
    "    \"\"\"\n",
    "    Find all prime numbers in the range [start, end] using the Sieve of Eratosthenes.\n",
    "    \n",
    "    Args:\n",
    "        start (int): Starting number of the range (inclusive)\n",
    "        end (int): Ending number of the range (inclusive)\n",
    "    \n",
    "    Returns:\n",
    "        list: List of prime numbers in the given range\n",
    "    \"\"\"\n",
    "    if end < 2:\n",
    "        return []\n",
    "    \n",
    "    # Create a boolean array and initialize all entries as True\n",
    "    # We need to check up to 'end', so size is end + 1\n",
    "    is_prime = [True] * (end + 1)\n",
    "    is_prime[0] = is_prime[1] = False  # 0 and 1 are not prime\n",
    "    \n",
    "    # Start with the smallest prime number, 2\n",
    "    p = 2\n",
    "    while p * p <= end:\n",
    "        # If is_prime[p] is not changed, then it's a prime\n",
    "        if is_prime[p]:\n",
    "            # Mark all multiples of p as not prime\n",
    "            for i in range(p * p, end + 1, p):\n",
    "                is_prime[i] = False\n",
    "        p += 1\n",
    "    \n",
    "    # Collect all prime numbers in the specified range\n",
    "    primes = []\n",
    "    for i in range(max(2, start), end + 1):\n",
    "        if is_prime[i]:\n",
    "            primes.append(i)\n",
    "    \n",
    "    return primes\n",
    "\n",
    "\n",
    "# Example usage and test cases\n",
    "if __name__ == \"__main__\":\n",
    "    # Test cases\n",
    "    start = 1\n",
    "    end = 10000\n",
    "    print(\"Primes from {start} to {end}:\", sieve_of_eratosthenes(start, end))\n"
   ]
  }
 ],
 "metadata": {
  "kernelspec": {
   "display_name": ".venv",
   "language": "python",
   "name": "python3"
  },
  "language_info": {
   "codemirror_mode": {
    "name": "ipython",
    "version": 3
   },
   "file_extension": ".py",
   "mimetype": "text/x-python",
   "name": "python",
   "nbconvert_exporter": "python",
   "pygments_lexer": "ipython3",
   "version": "3.12.10"
  }
 },
 "nbformat": 4,
 "nbformat_minor": 5
}
